{
  "cells": [
    {
      "cell_type": "markdown",
      "metadata": {
        "id": "view-in-github",
        "colab_type": "text"
      },
      "source": [
        "<a href=\"https://colab.research.google.com/github/Hwan26/Folder/blob/main/assignment_0.ipynb\" target=\"_parent\"><img src=\"https://colab.research.google.com/assets/colab-badge.svg\" alt=\"Open In Colab\"/></a>"
      ]
    },
    {
      "cell_type": "markdown",
      "metadata": {
        "id": "QUCAINbq6UJQ"
      },
      "source": [
        "# ข้อที่ **1**"
      ]
    },
    {
      "cell_type": "code",
      "execution_count": null,
      "metadata": {
        "id": "p9EmkkhR5VNr"
      },
      "outputs": [],
      "source": [
        "from collections import Counter"
      ]
    },
    {
      "cell_type": "code",
      "execution_count": null,
      "metadata": {
        "colab": {
          "base_uri": "https://localhost:8080/"
        },
        "id": "1ogtaHad6hYr",
        "outputId": "f7bb430b-8e4d-469b-cf89-fd98cafb71b7"
      },
      "outputs": [
        {
          "name": "stdout",
          "output_type": "stream",
          "text": [
            "Counter({1: 2, 2: 1})\n"
          ]
        }
      ],
      "source": [
        "def count_runs(bernoulli_trials):\n",
        "    run_counts = Counter()\n",
        "    run_length = 0\n",
        "\n",
        "    for trial in bernoulli_trials: #Iterating through Bernoulli Trials:\n",
        "        if trial == 1:\n",
        "            run_length += 1\n",
        "        else:\n",
        "            if run_length > 0:\n",
        "                run_counts[run_length] += 1\n",
        "            run_length = 0\n",
        "\n",
        "    if run_length > 0: #หลังจากวนรอบจะมีการตรวจสอบเพิ่มเติม  the case where the last run extends to the end of the list.\n",
        "        run_counts[run_length] += 1\n",
        "\n",
        "    return run_counts\n",
        "\n",
        "print(count_runs([0, 1, 0, 1, 1, 0, 0, 0, 0, 0, 1,]))"
      ]
    },
    {
      "cell_type": "code",
      "execution_count": null,
      "metadata": {
        "colab": {
          "background_save": true
        },
        "id": "5cpt6u2S3OkY",
        "outputId": "56ccd02a-f82f-406e-953d-e0689282fb2e"
      },
      "outputs": [
        {
          "name": "stdout",
          "output_type": "stream",
          "text": [
            "Counter({1: 250003767, 2: 125010747, 3: 62496429, 4: 31247223, 5: 15629462, 6: 7808226, 7: 3906266, 8: 1952111, 9: 975929, 10: 489060, 11: 244458, 12: 122092, 13: 61253, 14: 30540, 15: 15306, 16: 7646, 17: 3804, 18: 1832, 19: 969, 20: 445, 21: 240, 22: 113, 23: 55, 24: 31, 25: 15, 26: 7, 27: 6, 29: 1, 28: 1})\n"
          ]
        }
      ],
      "source": [
        "import numpy as np\n",
        "from collections import Counter\n",
        "\n",
        "def count_runs(sequence):\n",
        "    counts = {}\n",
        "    current_run_length = 1\n",
        "\n",
        "    for i in range(1, len(sequence)):\n",
        "        if sequence[i] == sequence[i-1]:\n",
        "            current_run_length += 1\n",
        "        else:\n",
        "            if current_run_length in counts:\n",
        "                counts[current_run_length] += 1\n",
        "            else:\n",
        "                counts[current_run_length] = 1\n",
        "            current_run_length = 1\n",
        "\n",
        "    # Add the last run\n",
        "    if current_run_length in counts:\n",
        "        counts[current_run_length] += 1\n",
        "    else:\n",
        "        counts[current_run_length] = 1\n",
        "\n",
        "    return counts\n",
        "\n",
        "def expected_count_runs(p, n, num_simulations):\n",
        "    counts = Counter()\n",
        "\n",
        "    for _ in range(num_simulations):\n",
        "        sequence = np.random.randint(0, 2, n)\n",
        "        current_counts = count_runs(sequence)\n",
        "\n",
        "        for key in current_counts.keys():\n",
        "            counts[key] += current_counts[key]\n",
        "\n",
        "    return counts\n",
        "\n",
        "sequence = np.random.randint(0, 2, 1000000)\n",
        "expected_counts = expected_count_runs(0.5, len(sequence), 1000)\n",
        "print(expected_counts)"
      ]
    },
    {
      "cell_type": "markdown",
      "metadata": {
        "id": "ug_RLue96t0U"
      },
      "source": [
        "# ข้อที่ **2**"
      ]
    },
    {
      "cell_type": "code",
      "execution_count": null,
      "metadata": {
        "colab": {
          "background_save": true
        },
        "id": "kJ2p2n7g8i1-"
      },
      "outputs": [],
      "source": []
    },
    {
      "cell_type": "code",
      "execution_count": null,
      "metadata": {
        "colab": {
          "background_save": true
        },
        "id": "aRSjhdG3h2oL",
        "outputId": "cb5071be-dcfa-4a40-b11c-5311ef01ab13"
      },
      "outputs": [
        {
          "name": "stdout",
          "output_type": "stream",
          "text": [
            "Probability of at least one run of length 5 or more when n=100 and p=0.5:  0.81009\n",
            "Probability of at least one run of length 7 or more when n=100 and p=0.7:  0.9494\n"
          ]
        }
      ],
      "source": [
        "import numpy as np\n",
        "import random\n",
        "\n",
        "def run_simulation(n, k, p, expts):\n",
        "    count = 0\n",
        "    for _ in range(expts):\n",
        "        runs = simulate_runs(n, k, p)\n",
        "        if runs:\n",
        "            count += 1\n",
        "    return count / expts\n",
        "\n",
        "def simulate_runs(n, k, p):\n",
        "    run = 0\n",
        "    runs = []\n",
        "    for i in range(n):\n",
        "        coin = random.random()\n",
        "        if coin <= p:\n",
        "            run += 1\n",
        "        else:\n",
        "            if run >= k:\n",
        "                runs.append(run)\n",
        "            run = 0\n",
        "    if run >= k:\n",
        "        runs.append(run)\n",
        "    return runs\n",
        "\n",
        "n = 100\n",
        "k = 5\n",
        "p = 0.5\n",
        "expts = 100000\n",
        "run_prob = run_simulation(n, k, p, expts)\n",
        "print(\"Probability of at least one run of length 5 or more when n=100 and p=0.5: \", run_prob)\n",
        "\n",
        "k = 7\n",
        "p = 0.7\n",
        "run_prob = run_simulation(n, k, p, expts)\n",
        "print(\"Probability of at least one run of length 7 or more when n=100 and p=0.7: \", run_prob)"
      ]
    }
  ],
  "metadata": {
    "colab": {
      "provenance": [],
      "authorship_tag": "ABX9TyP2SnLPpSuPxcNpnlNnlQXK",
      "include_colab_link": true
    },
    "kernelspec": {
      "display_name": "Python 3",
      "name": "python3"
    },
    "language_info": {
      "name": "python"
    }
  },
  "nbformat": 4,
  "nbformat_minor": 0
}